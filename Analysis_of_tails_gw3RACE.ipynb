{
 "cells": [
  {
   "cell_type": "code",
   "execution_count": null,
   "metadata": {},
   "outputs": [],
   "source": [
    "# Import libraries\n",
    "\n",
    "import gw3RACE_functions\n",
    "\n",
    "\n",
    "%matplotlib inline"
   ]
  },
  {
   "cell_type": "code",
   "execution_count": null,
   "metadata": {},
   "outputs": [],
   "source": [
    "# Example code\n",
    "df = pd.read_csv('output_short.tab', sep = '\\t',\n",
    "                 names = ['read_ID', 'chr', 'start_R1', 'stop_R1','strand_R1', 'gene_start', 'gene_stop',\n",
    "                         'gene','coord_R2', 'cigar', 'seq_R2'])\n",
    "\n",
    "df['RNA_type'] = df['gene'].apply(lambda x: test_RNA_type(x.lower()))\n",
    "df['tail_fromcigar'] = df.apply(lambda kol: take_tail_fromcigar8(kol.strand_R1, kol.cigar,  kol.seq_R2), \n",
    "                                axis = 1)\n",
    "df['tail_LENcigar'] = df['tail_fromcigar'].apply(lambda x: len(x))\n",
    "df['tail_fromGREP'] = df.apply(lambda kol: grep_tail_edit_onlyfromSeq(kol.seq_R2), axis = 1)\n",
    "\n",
    "#df = df.drop_duplicates()\n",
    "df['tail_GreporCigar'] = df.apply(lambda kol: tail_fromGREPorCIGAR(kol.cigar, kol.tail_fromGREP, kol.tail_fromcigar),axis = 1)\n",
    "\n",
    "\n",
    "                                                                                    \n",
    "df['tail_from'] = df.apply(lambda kol: tail_fromGREPorCIGAR_description(kol.cigar,\n",
    "                                                                        kol.tail_fromGREP,kol.tail_fromcigar),\n",
    "                           axis = 1)\n",
    "df['tail_len'] = df['tail_GreporCigar'].apply(lambda x: len(x))\n",
    "#df = df[df['tail_len']>0]\n",
    "df['tail_type'] = df.apply(lambda kol:   test_tail_cigargrep8(kol.tail_from, kol.strand_R1, kol.tail_GreporCigar),axis = 1)\n",
    "  \n",
    "\n",
    "df['stop_R2'] =  df.apply(lambda kol: stop_based_on_cigar(kol.cigar, kol.strand_R1 , kol.coord_R2),axis = 1)\n",
    "df['distance_to_TES'] =  df.apply(lambda kol: distance_to_TES(kol.cigar,kol.strand_R1 ,kol.stop_R2,\n",
    "                                                              kol.gene_start,kol.gene_stop),axis = 1)\n",
    "\n",
    "df['gene_len'] = df['gene_stop']-df['gene_start']\n",
    "df['rel_distance_to_TES'] = df['distance_to_TES']/df['gene_len']\n",
    "df.to_csv('output.csv')\n",
    "    "
   ]
  },
  {
   "cell_type": "code",
   "execution_count": null,
   "metadata": {},
   "outputs": [],
   "source": [
    "df.head()"
   ]
  },
  {
   "cell_type": "code",
   "execution_count": null,
   "metadata": {},
   "outputs": [],
   "source": []
  }
 ],
 "metadata": {
  "kernelspec": {
   "display_name": "Python 3",
   "language": "python",
   "name": "python3"
  },
  "language_info": {
   "codemirror_mode": {
    "name": "ipython",
    "version": 3
   },
   "file_extension": ".py",
   "mimetype": "text/x-python",
   "name": "python",
   "nbconvert_exporter": "python",
   "pygments_lexer": "ipython3",
   "version": "3.7.12"
  }
 },
 "nbformat": 4,
 "nbformat_minor": 2
}
