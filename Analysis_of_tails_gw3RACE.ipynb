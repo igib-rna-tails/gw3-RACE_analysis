{
 "cells": [
  {
   "cell_type": "code",
   "execution_count": null,
   "metadata": {},
   "outputs": [],
   "source": [
    "# Import libraries\n",
    "\n",
    "# You need to save \"gw3RACE_functions.py\" file in the same directory to import \"gw3RACE_functions\"\n",
    "import gw3RACE_functions as gw\n",
    "import pandas as pd\n",
    "\n",
    "%matplotlib inline"
   ]
  },
  {
   "cell_type": "code",
   "execution_count": null,
   "metadata": {},
   "outputs": [],
   "source": [
    "def safe_distance_to_TES(cigar, strand_R1, stop_R2, gene_start, gene_stop):\n",
    "    \"\"\"\n",
    "    Calculate the distance to the transcription end site (TES) safely, accounting for possible None values in parameters.\n",
    "\n",
    "    This function computes the distance from the 3' end of the read (R2) to the transcription end site (TES). \n",
    "    It ensures that calculations are only performed when all parameters are provided and are not None.\n",
    "    \n",
    "    Parameters:\n",
    "    - cigar (str): The CIGAR string from the alignment.\n",
    "    - strand_R1 (str): The strand information for R1, expected to be '+' or '-'.\n",
    "    - stop_R2 (int or None): The stop coordinate of the R2 read. If None, the function returns None.\n",
    "    - gene_start (int or None): The start coordinate of the gene. If None, the function returns None.\n",
    "    - gene_stop (int or None): The stop coordinate of the gene. If None, the function returns None.\n",
    "\n",
    "    Returns:\n",
    "    int or None: The distance to TES if all inputs are valid, otherwise None if any input is None.\n",
    "\n",
    "\n",
    "    The function ensures that the resulting distance is calculated correctly based on the strand orientation:\n",
    "    - For '-' strand, the distance is calculated as gene_start minus stop_R2.\n",
    "    - For '+' strand, the distance is calculated as stop_R2 minus gene_stop.\n",
    "    \"\"\"\n",
    "    if isinstance(stop_R2, type(None)) or isinstance(gene_start, type(None)) or isinstance(gene_stop, type(None)):\n",
    "        return None  # Returns None if any of the parameters is None\n",
    "    else:\n",
    "        if strand_R1 == '-':\n",
    "            return int(gene_start) - int(stop_R2)  # Ensures all values are integers\n",
    "        elif strand_R1 == '+':\n",
    "            return int(stop_R2) - int(gene_stop)  # Ensures all values are integers"
   ]
  },
  {
   "cell_type": "code",
   "execution_count": null,
   "metadata": {},
   "outputs": [],
   "source": [
    "# Read DataFrame as df\n",
    "df = pd.read_csv('output_Spombe/output_short.tab', sep = '\\t',\n",
    "                 names = ['read_ID', 'chr', 'start_R1', 'stop_R1','strand_R1', 'gene_start', 'gene_stop',\n",
    "                         'gene','coord_R2', 'cigar', 'seq_R2'])\n",
    "\n",
    "## Add new column including 3'RNA tails based on CIGAR code\n",
    "df['tail_fromcigar'] = df.apply(lambda kol: gw.take_tail_fromcigar8(kol.strand_R1,\n",
    "                                                                    kol.cigar,  \n",
    "                                                                    kol.seq_R2),\n",
    "                                axis = 1)\n",
    "\n",
    "## Add new column including 3'RNA tails using grep (only unmapped reads R2)\n",
    "df['tail_fromGREP'] = df.apply(lambda kol: gw.grep_tail_edit_onlyfromSeq(kol.seq_R2) if isinstance(kol.seq_R2, str) else '', axis=1)\n",
    "## Add new column including 3'RNA tail sequences based on CIGAR or grep\n",
    "df['tail_GreporCigar'] = df.apply(lambda kol: gw.tail_fromGREPorCIGAR(kol.cigar,\n",
    "                                                                      kol.tail_fromGREP,\n",
    "                                                                      kol.tail_fromcigar),axis = 1)\n",
    "\n",
    "## Add new column with information 'grep' or 'cigar'                                                                                   \n",
    "df['tail_from'] = df.apply(lambda kol: gw.tail_fromGREPorCIGAR_description(kol.cigar,\n",
    "                                                        kol.tail_fromGREP,kol.tail_fromcigar), axis = 1)\n",
    "\n",
    "## Calculate tail length\n",
    "df['tail_len'] = df['tail_GreporCigar'].apply(lambda x: len(x))\n",
    "\n",
    "## Add new column with information about tail type\n",
    "df['tail_type'] = df.apply(lambda kol:   gw.test_tail_cigargrep8(kol.tail_from, kol.strand_R1, \n",
    "                                                                 kol.tail_GreporCigar),axis = 1)\n",
    "  \n",
    "## Add column with coordinate of 3'end of R2 reads\n",
    "df['stop_R2'] = df.apply(lambda kol: gw.stop_based_on_cigar(kol.cigar, kol.strand_R1, kol.coord_R2) if isinstance(kol.cigar, str) else None, axis=1)\n",
    "## Calculate distance to transcription end site (TES) based \n",
    "df['distance_to_TES'] = df.apply(lambda kol: safe_distance_to_TES(kol.cigar, \n",
    "                                                                  kol.strand_R1, \n",
    "                                                                  kol.stop_R2, \n",
    "                                                                  kol.gene_start,\n",
    "                                                                  kol.gene_stop), \n",
    "                                 axis=1)\n",
    "## Calculate lentth of gene sequence\n",
    "df['gene_start'] = pd.to_numeric(df['gene_start'], errors='coerce')\n",
    "df['gene_stop'] = pd.to_numeric(df['gene_stop'], errors='coerce')\n",
    "\n",
    "\n",
    "df['gene_len'] = df.apply(lambda row: row['gene_stop'] - row['gene_start'] if pd.notna(row['gene_stop']) and pd.notna(row['gene_start']) else None, axis=1)\n",
    "\n",
    "## Calculate relative distance to TES\n",
    "df['rel_distance_to_TES'] = df['distance_to_TES']/df['gene_len']\n",
    "\n",
    "## Drop some columns to reduce the size of the table\n",
    "df.drop(columns= [ 'chr', 'start_R1', 'stop_R1', 'strand_R1', 'gene_start',\n",
    "       'gene_stop',  'coord_R2', 'cigar', 'seq_R2', 'tail_fromcigar',\n",
    "       'tail_fromGREP', 'stop_R2', 'gene_len'], inplace = True)\n",
    "    "
   ]
  },
  {
   "cell_type": "code",
   "execution_count": null,
   "metadata": {
    "scrolled": true
   },
   "outputs": [],
   "source": [
    "## Assign RNA type - it will works only for S. pombe genome\n",
    "\n",
    "df['RNA_type'] = df['gene'].apply(lambda x: gw.test_RNA_type(str(x).lower()) if x is not None else None)"
   ]
  },
  {
   "cell_type": "code",
   "execution_count": null,
   "metadata": {},
   "outputs": [],
   "source": [
    "## Save DataFrame as csv\n",
    "df.to_csv('output_Spombe/output_detailed_DataFrame.csv', index = False)"
   ]
  },
  {
   "cell_type": "code",
   "execution_count": null,
   "metadata": {},
   "outputs": [],
   "source": []
  }
 ],
 "metadata": {
  "kernelspec": {
   "display_name": "Python 3",
   "language": "python",
   "name": "python3"
  },
  "language_info": {
   "codemirror_mode": {
    "name": "ipython",
    "version": 3
   },
   "file_extension": ".py",
   "mimetype": "text/x-python",
   "name": "python",
   "nbconvert_exporter": "python",
   "pygments_lexer": "ipython3",
   "version": "3.9.15"
  }
 },
 "nbformat": 4,
 "nbformat_minor": 2
}
